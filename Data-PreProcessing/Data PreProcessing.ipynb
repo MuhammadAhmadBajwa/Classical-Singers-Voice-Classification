{
 "cells": [
  {
   "cell_type": "code",
   "execution_count": null,
   "metadata": {},
   "outputs": [],
   "source": [
    "!pip install demucs"
   ]
  },
  {
   "cell_type": "code",
   "execution_count": null,
   "metadata": {},
   "outputs": [],
   "source": [
    "%cd class*"
   ]
  },
  {
   "cell_type": "code",
   "execution_count": null,
   "metadata": {},
   "outputs": [],
   "source": [
    "%mkdir \"Asha Boshle Vocals\""
   ]
  },
  {
   "cell_type": "code",
   "execution_count": null,
   "metadata": {},
   "outputs": [],
   "source": [
    "import os\n",
    "import subprocess\n",
    "import torch\n",
    "from pathlib import Path\n",
    "\n",
    "def extract_vocals(input_dir, output_dir, model=\"htdemucs\"):\n",
    "    # Check GPU availability\n",
    "    device = \"cuda\" if torch.cuda.is_available() else \"cpu\"\n",
    "    print(f\"Using device: {device.upper()}\")\n",
    "\n",
    "    # Create output directory if not exists\n",
    "    Path(output_dir).mkdir(parents=True, exist_ok=True)\n",
    "\n",
    "    # Process all audio files in input directory\n",
    "    for file in os.listdir(input_dir):\n",
    "        if file.lower().endswith((\".mp3\", \".wav\", \".flac\", \".ogg\")):\n",
    "            input_path = os.path.join(input_dir, file)\n",
    "\n",
    "            print(f\"\\nProcessing: {file}\")\n",
    "\n",
    "            # Run Demucs with GPU acceleration\n",
    "            cmd = [\n",
    "                \"demucs\",\n",
    "                \"--two-stems=vocals\",\n",
    "                f\"--device={device}\",\n",
    "                f\"--out={output_dir}\",\n",
    "                f\"--name={model}\",\n",
    "                input_path\n",
    "            ]\n",
    "\n",
    "            try:\n",
    "                subprocess.run(cmd, check=True)\n",
    "                print(f\"Successfully processed {file}\")\n",
    "            except subprocess.CalledProcessError as e:\n",
    "                print(f\"Error processing {file}: {str(e)}\")\n",
    "\n",
    "if __name__ == \"__main__\":\n",
    "    # Configuration\n",
    "    INPUT_DIR = 'Asha Bhosle Songs'  # Folder with input audio files\n",
    "    OUTPUT_DIR = \"Data-PreProcessing/Asha Boshle Vocals\"     # Folder for separated stems\n",
    "\n",
    "    # Start processing\n",
    "    extract_vocals(INPUT_DIR, OUTPUT_DIR)"
   ]
  },
  {
   "cell_type": "code",
   "execution_count": null,
   "metadata": {},
   "outputs": [],
   "source": [
    "!dir"
   ]
  },
  {
   "cell_type": "code",
   "execution_count": null,
   "metadata": {},
   "outputs": [],
   "source": []
  }
 ],
 "metadata": {
  "kernelspec": {
   "display_name": "ENV",
   "language": "python",
   "name": "python3"
  },
  "language_info": {
   "codemirror_mode": {
    "name": "ipython",
    "version": 3
   },
   "file_extension": ".py",
   "mimetype": "text/x-python",
   "name": "python",
   "nbconvert_exporter": "python",
   "pygments_lexer": "ipython3",
   "version": "3.13.2"
  }
 },
 "nbformat": 4,
 "nbformat_minor": 2
}
